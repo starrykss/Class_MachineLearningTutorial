{
 "cells": [
  {
   "cell_type": "markdown",
   "metadata": {},
   "source": [
    "# - 기계학습 중간고사 -\n",
    "\n",
    "\n",
    "<span style=\"color:red\">\n",
    "    \n",
    "###   - 다음 두 문제를 보고 TODO에 코드를 작성하고 보너스 문제에 답을 하면 됩니다. \n",
    "\n",
    "###   - 코드를 모두 작성하고 실행을 한 후 File/Downloads as/HTML 로 저장합니다. \n",
    "    \n",
    "###   - 파일명은 학번.html 로 변경하고 업로드합니다. \n",
    "\n",
    "###     (데이터는 업로드하지말고 html파일 하나만 업로드 합니다.)\n",
    "    \n",
    "</span>"
   ]
  },
  {
   "cell_type": "markdown",
   "metadata": {},
   "source": [
    "### 1. 다음은 랜덤 데이터를 읽고 이를 회귀분석하는 코드의 일부이다.  주석을 참고하여 TODO를 채워라.\n",
    "#### (Hint. 이 데이터에 대한 회귀 분석을 위해 밑에 있는 2차식을 가정한다.)\n",
    "$$\n",
    "f(x) = w_0 + w_1x + w_2x^2\n",
    "$$"
   ]
  },
  {
   "cell_type": "code",
   "execution_count": null,
   "metadata": {},
   "outputs": [],
   "source": [
    "import warnings\n",
    "import numpy as np\n",
    "import matplotlib.pylab as plt\n",
    "from scipy.optimize import minimize\n",
    "from sklearn.model_selection import train_test_split\n",
    "from sklearn.linear_model import LogisticRegression\n",
    "%matplotlib inline\n",
    "%config InlineBackend.figure_format = 'retina'\n",
    "warnings.filterwarnings(action='ignore')"
   ]
  },
  {
   "cell_type": "code",
   "execution_count": null,
   "metadata": {},
   "outputs": [],
   "source": [
    "# 입력값\n",
    "xload = np.load('./data/regressionX.npy')\n",
    "\n",
    "#목표치\n",
    "tload = np.load('./data/regressionT.npy')\n",
    "\n",
    "print(xload.shape)\n",
    "print(tload.shape)\n",
    "\n",
    "# TODO : 위에서 로드한 데이터를 그래프로 나타냄"
   ]
  },
  {
   "cell_type": "code",
   "execution_count": null,
   "metadata": {},
   "outputs": [],
   "source": [
    "# MSE 함수 구현\n",
    "def loss_mse(w, x, t):\n",
    "    y = # TODO: w와 x를 이용한 함수값 계산. 2차식 함수\n",
    "    val = 0.0    \n",
    "    for n in range(len(x)):                \n",
    "        val = #TODO: MSE 계산식\n",
    "    val = val / x.shape[0]\n",
    "    return val\n",
    "\n",
    "# 초기값\n",
    "w0 = np.array([0.7, 1, 0.5])\n",
    "\n",
    "#Scipy를 이용한 최적화\n",
    "_w = minimize( #TODO )\n",
    "print(_w)\n",
    "\n",
    "# 예측값을 구하기 위한 배열화\n",
    "ft = np.array([[1., xval, xval**2] for xval in xload])\n",
    "    \n",
    "# 예측값\n",
    "pred = np.dot(ft, _w.x)\n",
    "    \n",
    "# TODO : # 목표값과 최적화를 통해 구한 함수를 그래프로 나타냄"
   ]
  },
  {
   "cell_type": "markdown",
   "metadata": {},
   "source": [
    "### 2. 다음은 데이터에 대한 binary classification 코드이다. 이 코드는 크게 두 부분으로 구성된다. \n",
    "### 첫번째는 데이터를 읽고 두 클래스를 분류하는 결정경계를 파이썬으로 직접 구하는 부분이고 \n",
    "### 두번째는 사이킷런을 이용하여 임의로 학습 데이터와 테스트 데이터로 나누어 성능을 측정한다.\n",
    "### 주석을 참고하여 TODO를 채워라.\n",
    "#### (Hint. 이 데이터에 대한 분류를 위해 밑에 있는 1차식을 가정한다.)\n",
    "$$\n",
    "f(x) = w_0x_0 + w_1x_1 + w_2\n",
    "$$"
   ]
  },
  {
   "cell_type": "code",
   "execution_count": null,
   "metadata": {},
   "outputs": [],
   "source": [
    "# 입력값\n",
    "X = np.load(\"./data/classificationX.npy\")\n",
    "\n",
    "# 출력값1 - 출력값이 숫자로 저장 되어 있음 (0 혹은 1)\n",
    "T1 = np.load(\"./data/classificationT1.npy\")\n",
    "\n",
    "# 출력값2 - 출력값이 원핫코딩으로 저장되어 있음 (10 혹은 01)\n",
    "T2 = np.load(\"./data/classificationT2.npy\")\n",
    "\n",
    "print(X.shape)\n",
    "print(T1.shape)\n",
    "print(T2.shape)\n",
    "\n",
    "# 데이터 갯수\n",
    "N = X.shape[0]\n",
    "\n",
    "# 입력 차원수\n",
    "dim = 2\n",
    "\n",
    "# 클래스 갯수\n",
    "K = 2\n",
    "\n",
    "def show_data(x, t):\n",
    "    c = [[0, 0, 0], [1, 0, 0]]\n",
    "    for k in range(K):\n",
    "        plt.plot(x[t[:, k] == 1, 0], x[t[:, k] == 1, 1], linestyle='none', marker='o', color=c[k])\n",
    "        plt.grid(True)\n",
    "        \n",
    "# 데이터 표시\n",
    "plt.figure(figsize=(5, 5))\n",
    "show_data(X, T2)"
   ]
  },
  {
   "cell_type": "code",
   "execution_count": null,
   "metadata": {},
   "outputs": [],
   "source": [
    "def logistic2(x0, x1, w):\n",
    "    y = # TODO: 시그모이드 함수\n",
    "    return y\n",
    "\n",
    "def cee_logistic2(w, x, t):\n",
    "    X_n = x.shape[0]\n",
    "    y = logistic2(x[:, 0], x[:, 1], w)    \n",
    "    cee = 0\n",
    "    for n in range(len(y)):\n",
    "        cee = # TODO: 크로스 엔트로피 \n",
    "    cee = cee / X_n\n",
    "    return cee\n",
    "\n",
    "# 직선 그리는 함수\n",
    "def show_line(W):\n",
    "    xn = 50 # 파라미터의 분할 수\n",
    "    X_range0 = [-1, 1] # X0 범위 표시 용    \n",
    "    x0 = np.linspace(X_range0[0], X_range0[1], xn)\n",
    "    x1 = -(W[0]/W[1])*x0 - W[2]/W[1]\n",
    "    plt.plot(x0, x1, '--k')    \n",
    "    \n",
    "# w 초기값\n",
    "w_init = [1, 1, -1]\n",
    "\n",
    "#Scipy를 이용한 최적화\n",
    "res =  minimize( #TODO )\n",
    "_w = res.x\n",
    "print(\"w0 = {0:.2f}, w1 = {1:.2f}, w2 = {2:.2f}\".format(_w[0], _w[1], _w[2]))\n",
    "\n",
    "plt.figure(1, figsize=(5, 5))\n",
    "show_data(X, T2)\n",
    "show_line(_w)\n",
    "plt.xlim(-.0, 1.0)\n",
    "plt.ylim(-.0, 1.0)\n",
    "plt.show()"
   ]
  },
  {
   "cell_type": "code",
   "execution_count": null,
   "metadata": {},
   "outputs": [],
   "source": [
    "x_train, x_test, y_train, y_test = train_test_split(X, T1, random_state=42)\n",
    "print(x_train.shape)\n",
    "print(y_train.shape)\n",
    "\n",
    "logreg = # 사이킷 런 로지스틱 회귀 함수를 이용한 학습\n",
    "\n",
    "print(\"학습 세트 점수: {:.3f}\".format(logreg.score(x_train, y_train)))\n",
    "print(\"테스트 세트 점수: {:.3f}\".format(logreg.score(x_test, y_test)))"
   ]
  },
  {
   "cell_type": "markdown",
   "metadata": {},
   "source": [
    "### (보너스 문제) : 위의 사이킷 런을 이용하여 학습 데이터와 테스트 데이터의 점수를 체크하는 부분에서 \n",
    "### 잘못된 부분을 간략히 설명하시오. \n",
    "#### (Hint. 코드의 문법적 오류를 묻는게 아니라 개념적으로 이상한 부분. 테스트 세트의 점수가 유난히 높은 이유를 생각해보기 바람)"
   ]
  },
  {
   "cell_type": "code",
   "execution_count": null,
   "metadata": {},
   "outputs": [],
   "source": [
    "# 여기에 간략히 서술"
   ]
  }
 ],
 "metadata": {
  "kernelspec": {
   "display_name": "Python 3",
   "language": "python",
   "name": "python3"
  },
  "language_info": {
   "codemirror_mode": {
    "name": "ipython",
    "version": 3
   },
   "file_extension": ".py",
   "mimetype": "text/x-python",
   "name": "python",
   "nbconvert_exporter": "python",
   "pygments_lexer": "ipython3",
   "version": "3.7.6"
  }
 },
 "nbformat": 4,
 "nbformat_minor": 4
}
