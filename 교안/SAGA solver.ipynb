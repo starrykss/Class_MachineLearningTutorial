{
 "cells": [
  {
   "cell_type": "markdown",
   "metadata": {},
   "source": [
    "이 노트북의 코드에 대한 설명은 [New SAGA solver](https://tensorflow.blog/2017/12/15/new-saga-solver/) 글을 참고하세요."
   ]
  },
  {
   "cell_type": "code",
   "execution_count": 1,
   "metadata": {},
   "outputs": [
    {
     "name": "stdout",
     "output_type": "stream",
     "text": [
      "CPython 3.5.4\n",
      "IPython 6.2.1\n",
      "\n",
      "sklearn 0.19.1\n",
      "numpy 1.13.3\n",
      "scipy 1.0.0\n"
     ]
    }
   ],
   "source": [
    "%load_ext watermark\n",
    "%watermark -v -p sklearn,numpy,scipy"
   ]
  },
  {
   "cell_type": "code",
   "execution_count": 2,
   "metadata": {},
   "outputs": [],
   "source": [
    "from sklearn.datasets import load_breast_cancer, load_boston\n",
    "from sklearn.model_selection import train_test_split\n",
    "from sklearn.linear_model import LogisticRegression, Ridge"
   ]
  },
  {
   "cell_type": "markdown",
   "metadata": {},
   "source": [
    "for cancer dataset"
   ]
  },
  {
   "cell_type": "code",
   "execution_count": 3,
   "metadata": {},
   "outputs": [],
   "source": [
    "cancer = load_breast_cancer()\n",
    "X_train, X_test, y_train, y_test = train_test_split(\n",
    "    cancer.data, cancer.target, stratify=cancer.target, random_state=42)"
   ]
  },
  {
   "cell_type": "code",
   "execution_count": 4,
   "metadata": {},
   "outputs": [
    {
     "name": "stdout",
     "output_type": "stream",
     "text": [
      "훈련 세트 점수: 0.927\n",
      "테스트 세트 점수: 0.930\n"
     ]
    }
   ],
   "source": [
    "logreg_sag = LogisticRegression(solver='sag', max_iter=10000).fit(X_train, y_train)\n",
    "print(\"훈련 세트 점수: {:.3f}\".format(logreg_sag.score(X_train, y_train)))\n",
    "print(\"테스트 세트 점수: {:.3f}\".format(logreg_sag.score(X_test, y_test)))"
   ]
  },
  {
   "cell_type": "code",
   "execution_count": 5,
   "metadata": {},
   "outputs": [
    {
     "name": "stdout",
     "output_type": "stream",
     "text": [
      "훈련 세트 점수: 0.920\n",
      "테스트 세트 점수: 0.937\n"
     ]
    }
   ],
   "source": [
    "logreg_saga = LogisticRegression(solver='saga', max_iter=10000).fit(X_train, y_train)\n",
    "print(\"훈련 세트 점수: {:.3f}\".format(logreg_saga.score(X_train, y_train)))\n",
    "print(\"테스트 세트 점수: {:.3f}\".format(logreg_saga.score(X_test, y_test)))"
   ]
  },
  {
   "cell_type": "markdown",
   "metadata": {},
   "source": [
    "for california housing dataset"
   ]
  },
  {
   "cell_type": "code",
   "execution_count": 6,
   "metadata": {},
   "outputs": [],
   "source": [
    "from sklearn.datasets import fetch_california_housing\n",
    "housing = fetch_california_housing()"
   ]
  },
  {
   "cell_type": "code",
   "execution_count": 7,
   "metadata": {
    "scrolled": true
   },
   "outputs": [
    {
     "data": {
      "text/plain": [
       "(array([[  8.32520000e+00,   4.10000000e+01,   6.98412698e+00,\n",
       "           1.02380952e+00,   3.22000000e+02,   2.55555556e+00,\n",
       "           3.78800000e+01,  -1.22230000e+02],\n",
       "        [  8.30140000e+00,   2.10000000e+01,   6.23813708e+00,\n",
       "           9.71880492e-01,   2.40100000e+03,   2.10984183e+00,\n",
       "           3.78600000e+01,  -1.22220000e+02],\n",
       "        [  7.25740000e+00,   5.20000000e+01,   8.28813559e+00,\n",
       "           1.07344633e+00,   4.96000000e+02,   2.80225989e+00,\n",
       "           3.78500000e+01,  -1.22240000e+02],\n",
       "        [  5.64310000e+00,   5.20000000e+01,   5.81735160e+00,\n",
       "           1.07305936e+00,   5.58000000e+02,   2.54794521e+00,\n",
       "           3.78500000e+01,  -1.22250000e+02],\n",
       "        [  3.84620000e+00,   5.20000000e+01,   6.28185328e+00,\n",
       "           1.08108108e+00,   5.65000000e+02,   2.18146718e+00,\n",
       "           3.78500000e+01,  -1.22250000e+02]]),\n",
       " array([ 4.526,  3.585,  3.521,  3.413,  3.422]))"
      ]
     },
     "execution_count": 7,
     "metadata": {},
     "output_type": "execute_result"
    }
   ],
   "source": [
    "housing.data[:5], housing.target[:5]"
   ]
  },
  {
   "cell_type": "code",
   "execution_count": 8,
   "metadata": {},
   "outputs": [
    {
     "data": {
      "text/plain": [
       "['MedInc',\n",
       " 'HouseAge',\n",
       " 'AveRooms',\n",
       " 'AveBedrms',\n",
       " 'Population',\n",
       " 'AveOccup',\n",
       " 'Latitude',\n",
       " 'Longitude']"
      ]
     },
     "execution_count": 8,
     "metadata": {},
     "output_type": "execute_result"
    }
   ],
   "source": [
    "housing.feature_names"
   ]
  },
  {
   "cell_type": "code",
   "execution_count": 9,
   "metadata": {},
   "outputs": [
    {
     "name": "stdout",
     "output_type": "stream",
     "text": [
      "California housing dataset.\n",
      "\n",
      "The original database is available from StatLib\n",
      "\n",
      "    http://lib.stat.cmu.edu/datasets/\n",
      "\n",
      "The data contains 20,640 observations on 9 variables.\n",
      "\n",
      "This dataset contains the average house value as target variable\n",
      "and the following input variables (features): average income,\n",
      "housing average age, average rooms, average bedrooms, population,\n",
      "average occupation, latitude, and longitude in that order.\n",
      "\n",
      "References\n",
      "----------\n",
      "\n",
      "Pace, R. Kelley and Ronald Barry, Sparse Spatial Autoregressions,\n",
      "Statistics and Probability Letters, 33 (1997) 291-297.\n",
      "\n",
      "\n"
     ]
    }
   ],
   "source": [
    "print(housing.DESCR)"
   ]
  },
  {
   "cell_type": "code",
   "execution_count": 10,
   "metadata": {},
   "outputs": [],
   "source": [
    "X_train, X_test, y_train, y_test = train_test_split(\n",
    "    housing.data, housing.target, random_state=42)"
   ]
  },
  {
   "cell_type": "code",
   "execution_count": 11,
   "metadata": {},
   "outputs": [
    {
     "name": "stdout",
     "output_type": "stream",
     "text": [
      "훈련 세트 점수: 0.061\n",
      "테스트 세트 점수: 0.062\n"
     ]
    }
   ],
   "source": [
    "ridge = Ridge(solver='sag').fit(X_train, y_train)\n",
    "print(\"훈련 세트 점수: {:.3f}\".format(ridge.score(X_train, y_train)))\n",
    "print(\"테스트 세트 점수: {:.3f}\".format(ridge.score(X_test, y_test)))"
   ]
  },
  {
   "cell_type": "code",
   "execution_count": 12,
   "metadata": {},
   "outputs": [
    {
     "name": "stdout",
     "output_type": "stream",
     "text": [
      "훈련 세트 점수: 0.035\n",
      "테스트 세트 점수: 0.036\n"
     ]
    }
   ],
   "source": [
    "ridge_saga = Ridge(solver='saga').fit(X_train, y_train)\n",
    "print(\"훈련 세트 점수: {:.3f}\".format(ridge_saga.score(X_train, y_train)))\n",
    "print(\"테스트 세트 점수: {:.3f}\".format(ridge_saga.score(X_test, y_test)))"
   ]
  }
 ],
 "metadata": {
  "kernelspec": {
   "display_name": "Python 3",
   "language": "python",
   "name": "python3"
  },
  "language_info": {
   "codemirror_mode": {
    "name": "ipython",
    "version": 3
   },
   "file_extension": ".py",
   "mimetype": "text/x-python",
   "name": "python",
   "nbconvert_exporter": "python",
   "pygments_lexer": "ipython3",
   "version": "3.5.4"
  }
 },
 "nbformat": 4,
 "nbformat_minor": 2
}
