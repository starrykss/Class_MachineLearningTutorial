{
 "cells": [
  {
   "cell_type": "markdown",
   "metadata": {},
   "source": [
    "# ANN Examples "
   ]
  },
  {
   "cell_type": "code",
   "execution_count": 1,
   "metadata": {},
   "outputs": [
    {
     "name": "stderr",
     "output_type": "stream",
     "text": [
      "C:\\Users\\kss34\\anaconda3\\lib\\importlib\\_bootstrap.py:219: RuntimeWarning: numpy.ufunc size changed, may indicate binary incompatibility. Expected 192 from C header, got 216 from PyObject\n",
      "  return f(*args, **kwds)\n"
     ]
    }
   ],
   "source": [
    "import sklearn.datasets as datasets\n",
    "from sklearn.neural_network import MLPClassifier\n",
    "from sklearn.model_selection import train_test_split\n",
    "import matplotlib.pyplot as plt\n",
    "from sklearn.preprocessing import StandardScaler"
   ]
  },
  {
   "cell_type": "markdown",
   "metadata": {},
   "source": [
    "## 손글씨"
   ]
  },
  {
   "cell_type": "code",
   "execution_count": 3,
   "metadata": {},
   "outputs": [
    {
     "name": "stdout",
     "output_type": "stream",
     "text": [
      "(1797, 64)\n",
      "(1797,)\n"
     ]
    },
    {
     "data": {
      "image/png": "[encoded data removed]",
      "text/plain": [
       "<Figure size 288x288 with 1 Axes>"
      ]
     },
     "metadata": {
      "needs_background": "light"
     },
     "output_type": "display_data"
    }
   ],
   "source": [
    "digits = datasets.load_digits()\n",
    "X = digits.data\n",
    "y = digits.target\n",
    "print(X.shape)\n",
    "print(y.shape)\n",
    "\n",
    "plt.matshow(digits.images[0])\n",
    "plt.show()"
   ]
  },
  {
   "cell_type": "code",
   "execution_count": 5,
   "metadata": {},
   "outputs": [
    {
     "name": "stdout",
     "output_type": "stream",
     "text": [
      "훈련 세트 정확도: 1.000\n",
      "테스트 세트 정확도: 0.978\n"
     ]
    }
   ],
   "source": [
    "X_train, X_test, y_train, y_test = train_test_split(X, y, stratify=y, random_state=42)\n",
    "scaler = StandardScaler()\n",
    "X_train_scaled = scaler.fit_transform(X_train)\n",
    "X_test_scaled = scaler.transform(X_test)\n",
    "\n",
    "mlp = MLPClassifier(max_iter=300, solver='adam', random_state=0, \n",
    "                    activation='relu', hidden_layer_sizes=[100, 50])\n",
    "mlp.fit(X_train_scaled, y_train)\n",
    "\n",
    "print(\"훈련 세트 정확도: {:.3f}\".format(mlp.score(X_train_scaled, y_train)))\n",
    "print(\"테스트 세트 정확도: {:.3f}\".format(mlp.score(X_test_scaled, y_test)))"
   ]
  },
  {
   "cell_type": "markdown",
   "metadata": {},
   "source": [
    "## MNIST"
   ]
  },
  {
   "cell_type": "code",
   "execution_count": 10,
   "metadata": {},
   "outputs": [
    {
     "name": "stdout",
     "output_type": "stream",
     "text": [
      "(70000, 784)\n",
      "(70000,)\n"
     ]
    }
   ],
   "source": [
    "mnist = datasets.fetch_openml('mnist_784', version=1)\n",
    "\n",
    "images = mnist.data\n",
    "labels = mnist.target\n",
    "print(images.shape)\n",
    "print(labels.shape)"
   ]
  },
  {
   "cell_type": "code",
   "execution_count": 12,
   "metadata": {},
   "outputs": [
    {
     "name": "stdout",
     "output_type": "stream",
     "text": [
      "Iteration 1, loss = 0.45362008\n",
      "Iteration 2, loss = 0.15656013\n",
      "Iteration 3, loss = 0.10510108\n",
      "Iteration 4, loss = 0.07514443\n",
      "Iteration 5, loss = 0.05781372\n",
      "Iteration 6, loss = 0.04334421\n",
      "Iteration 7, loss = 0.03304661\n",
      "Iteration 8, loss = 0.02456753\n",
      "Iteration 9, loss = 0.01833156\n",
      "Iteration 10, loss = 0.01472023\n",
      "Iteration 11, loss = 0.01098776\n",
      "Iteration 12, loss = 0.00872937\n",
      "Iteration 13, loss = 0.00644382\n",
      "Iteration 14, loss = 0.00519008\n",
      "Iteration 15, loss = 0.00427433\n",
      "Iteration 16, loss = 0.00348829\n",
      "Iteration 17, loss = 0.00301063\n",
      "Iteration 18, loss = 0.00264342\n",
      "Iteration 19, loss = 0.00232422\n",
      "Iteration 20, loss = 0.00209307\n",
      "Iteration 21, loss = 0.00190555\n",
      "Iteration 22, loss = 0.00174221\n",
      "Iteration 23, loss = 0.00161939\n",
      "Iteration 24, loss = 0.00149375\n",
      "Iteration 25, loss = 0.00140695\n",
      "Iteration 26, loss = 0.00131870\n",
      "Iteration 27, loss = 0.00125123\n",
      "Iteration 28, loss = 0.00118412\n",
      "Iteration 29, loss = 0.00112570\n",
      "Iteration 30, loss = 0.00107770\n",
      "Iteration 31, loss = 0.00102945\n",
      "Iteration 32, loss = 0.00099060\n",
      "Iteration 33, loss = 0.00095225\n",
      "Iteration 34, loss = 0.00092008\n",
      "Iteration 35, loss = 0.00088934\n",
      "Training loss did not improve more than tol=0.000100 for 10 consecutive epochs. Stopping.\n",
      "훈련 세트 정확도: 1.000\n",
      "테스트 세트 정확도: 0.971\n"
     ]
    }
   ],
   "source": [
    "X_train, X_test, y_train, y_test = train_test_split(images, labels, stratify=labels, \n",
    "                                                    random_state=42)\n",
    "scaler = StandardScaler()\n",
    "X_train_scaled = scaler.fit_transform(X_train)\n",
    "X_test_scaled = scaler.transform(X_test)\n",
    "\n",
    "mlp = MLPClassifier(max_iter=50, learning_rate_init=0.01, solver='sgd', random_state=0, \n",
    "                    hidden_layer_sizes=[300, 300, 300], verbose=True) # verbose : 결과값 1줄씩 출력\n",
    "mlp.fit(X_train_scaled, y_train)\n",
    "\n",
    "print(\"훈련 세트 정확도: {:.3f}\".format(mlp.score(X_train_scaled, y_train)))\n",
    "print(\"테스트 세트 정확도: {:.3f}\".format(mlp.score(X_test_scaled, y_test)))"
   ]
  },
  {
   "cell_type": "markdown",
   "metadata": {},
   "source": [
    "#### loss값이 줄어야 정상"
   ]
  }
 ],
 "metadata": {
  "kernelspec": {
   "display_name": "Python 3",
   "language": "python",
   "name": "python3"
  },
  "language_info": {
   "codemirror_mode": {
    "name": "ipython",
    "version": 3
   },
   "file_extension": ".py",
   "mimetype": "text/x-python",
   "name": "python",
   "nbconvert_exporter": "python",
   "pygments_lexer": "ipython3",
   "version": "3.7.6"
  }
 },
 "nbformat": 4,
 "nbformat_minor": 4
}
