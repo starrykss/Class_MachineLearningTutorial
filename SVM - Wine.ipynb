{
 "cells": [
  {
   "cell_type": "markdown",
   "metadata": {},
   "source": [
    "# SVM - Wine"
   ]
  },
  {
   "cell_type": "code",
   "execution_count": 1,
   "metadata": {},
   "outputs": [],
   "source": [
    "from sklearn.datasets import load_wine\n",
    "from sklearn.model_selection import train_test_split\n",
    "from sklearn.preprocessing import StandardScaler\n",
    "from sklearn import svm"
   ]
  },
  {
   "cell_type": "markdown",
   "metadata": {},
   "source": [
    "#### 와인의 화학 조성을 사용하여 와인의 종류를 예측하기 위한 데이터이다. `load_wine()` 명령으로 로드하며 다음과 같이 구성되어 있다.\n",
    "\n",
    "### 타겟 데이터\n",
    "\n",
    "#### 와인의 종류 0, 1, 2의 세가지 값\n",
    "\n",
    "### 특징 데이터\n",
    "- 알콜(Alcohol)\n",
    "- 말산(Malic acid)\n",
    "- 회분(Ash)\n",
    "- 회분의 알칼리도(Alcalinity of ash)\n",
    "- 마그네슘(Magnesium)\n",
    "- 총 폴리페놀(Total phenols)\n",
    "- 플라보노이드 폴리페놀(Flavanoids)\n",
    "- 비 플라보노이드 폴리페놀(Nonflavanoid phenols)\n",
    "- 프로안토시아닌(Proanthocyanins)\n",
    "- 색상의 강도(Color intensity)\n",
    "- 색상(Hue)\n",
    "- 희석 와인의 OD280/OD315 비율 (OD280/OD315 of diluted wines)\n",
    "- 프롤린(Proline)"
   ]
  },
  {
   "cell_type": "code",
   "execution_count": 3,
   "metadata": {},
   "outputs": [
    {
     "name": "stdout",
     "output_type": "stream",
     "text": [
      "(178, 13)\n",
      "(178,)\n",
      "[1.423e+01 1.710e+00 2.430e+00 1.560e+01 1.270e+02 2.800e+00 3.060e+00\n",
      " 2.800e-01 2.290e+00 5.640e+00 1.040e+00 3.920e+00 1.065e+03]\n"
     ]
    }
   ],
   "source": [
    "wine = load_wine()\n",
    "X = wine.data\n",
    "y = wine.target\n",
    "print(X.shape)\n",
    "print(y.shape)\n",
    "\n",
    "print(X[0, :])\n",
    "X_train, X_test, y_train, y_test = train_test_split(X, y, random_state=0)"
   ]
  },
  {
   "cell_type": "code",
   "execution_count": 6,
   "metadata": {},
   "outputs": [],
   "source": [
    "# sc = StardardScaler()\n",
    "# sc.fit(X_train)\n",
    "# X_train_std = sc.transform(X_train)\n",
    "# X_test_std = sc.transform(X_test)\n",
    "\n",
    "X_train_std = X_train\n",
    "X_test_std = X_test\n",
    "\n",
    "model1 = svm.SVC(kernel='linear').fit(X_train_std, y_train)\n",
    "model2 = svm.SVC(kernel='poly', random_state=0).fit(X_train_std, y_train)\n",
    "model3 = svm.SVC(kernel='rbf', random_state=0).fit(X_train_std, y_train)"
   ]
  },
  {
   "cell_type": "code",
   "execution_count": 5,
   "metadata": {},
   "outputs": [
    {
     "name": "stdout",
     "output_type": "stream",
     "text": [
      "== Model1: Linear ==\n",
      "훈련 세트 점수 : 0.99\n",
      "테스트 세트 점수 : 0.98\n",
      "== Model2: Polynomial ==\n",
      "훈련 세트 점수 : 0.64\n",
      "테스트 세트 점수 : 0.84\n",
      "== Model3: RBF ==\n",
      "훈련 세트 점수 : 0.70\n",
      "테스트 세트 점수 : 0.82\n"
     ]
    }
   ],
   "source": [
    "print(\"== Model1: Linear ==\")\n",
    "print(\"훈련 세트 점수 : {:.2f}\".format(model1.score(X_train_std, y_train)))\n",
    "print(\"테스트 세트 점수 : {:.2f}\".format(model1.score(X_test_std, y_test)))\n",
    "\n",
    "print(\"== Model2: Polynomial ==\")\n",
    "print(\"훈련 세트 점수 : {:.2f}\".format(model2.score(X_train_std, y_train)))\n",
    "print(\"테스트 세트 점수 : {:.2f}\".format(model2.score(X_test_std, y_test)))\n",
    "\n",
    "print(\"== Model3: RBF ==\")\n",
    "print(\"훈련 세트 점수 : {:.2f}\".format(model3.score(X_train_std, y_train)))\n",
    "print(\"테스트 세트 점수 : {:.2f}\".format(model3.score(X_test_std, y_test)))"
   ]
  }
 ],
 "metadata": {
  "kernelspec": {
   "display_name": "Python 3",
   "language": "python",
   "name": "python3"
  },
  "language_info": {
   "codemirror_mode": {
    "name": "ipython",
    "version": 3
   },
   "file_extension": ".py",
   "mimetype": "text/x-python",
   "name": "python",
   "nbconvert_exporter": "python",
   "pygments_lexer": "ipython3",
   "version": "3.7.6"
  }
 },
 "nbformat": 4,
 "nbformat_minor": 4
}
