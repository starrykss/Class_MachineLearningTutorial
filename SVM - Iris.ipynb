{
 "cells": [
  {
   "cell_type": "markdown",
   "metadata": {},
   "source": [
    "# SVM - Iris"
   ]
  },
  {
   "cell_type": "code",
   "execution_count": 1,
   "metadata": {},
   "outputs": [
    {
     "name": "stderr",
     "output_type": "stream",
     "text": [
      "C:\\Users\\kss34\\anaconda3\\lib\\importlib\\_bootstrap.py:219: RuntimeWarning: numpy.ufunc size changed, may indicate binary incompatibility. Expected 192 from C header, got 216 from PyObject\n",
      "  return f(*args, **kwds)\n"
     ]
    }
   ],
   "source": [
    "from sklearn.datasets import load_iris\n",
    "from sklearn.model_selection import train_test_split\n",
    "from sklearn.preprocessing import StandardScaler\n",
    "from sklearn import svm"
   ]
  },
  {
   "cell_type": "code",
   "execution_count": 3,
   "metadata": {},
   "outputs": [],
   "source": [
    "iris = load_iris()\n",
    "X = iris.data\n",
    "y = iris.target\n",
    "X_train, X_test, y_train, y_test = train_test_split(X, y, random_state=0)\n",
    "\n",
    "# sc = StardardScaler()\n",
    "# sc.fit(X_train)\n",
    "# X_train_std = sc.transform(X_train)\n",
    "# X_test_std = sc.transform(X_test)\n",
    "\n",
    "X_train_std = X_train\n",
    "X_test_std = X_test\n",
    "\n",
    "model1 = svm.SVC(kernel='linear').fit(X_train_std, y_train)\n",
    "model2 = svm.SVC(kernel='poly', random_state=0, gamma=10, C=1.0).fit(X_train_std, y_train)\n",
    "model3 = svm.SVC(kernel='rbf', random_state=0, gamma=1, C=1.0).fit(X_train_std, y_train)"
   ]
  },
  {
   "cell_type": "code",
   "execution_count": 4,
   "metadata": {},
   "outputs": [
    {
     "name": "stdout",
     "output_type": "stream",
     "text": [
      "== Model1: Linear ==\n",
      "훈련 세트 점수 : 0.98\n",
      "테스트 세트 점수 : 0.97\n",
      "== Model2: Polynomial ==\n",
      "훈련 세트 점수 : 1.00\n",
      "테스트 세트 점수 : 0.97\n",
      "== Model3: RBF ==\n",
      "훈련 세트 점수 : 0.97\n",
      "테스트 세트 점수 : 0.97\n"
     ]
    }
   ],
   "source": [
    "print(\"== Model1: Linear ==\")\n",
    "print(\"훈련 세트 점수 : {:.2f}\".format(model1.score(X_train_std, y_train)))\n",
    "print(\"테스트 세트 점수 : {:.2f}\".format(model1.score(X_test_std, y_test)))\n",
    "\n",
    "print(\"== Model2: Polynomial ==\")\n",
    "print(\"훈련 세트 점수 : {:.2f}\".format(model2.score(X_train_std, y_train)))\n",
    "print(\"테스트 세트 점수 : {:.2f}\".format(model2.score(X_test_std, y_test)))\n",
    "\n",
    "print(\"== Model3: RBF ==\")\n",
    "print(\"훈련 세트 점수 : {:.2f}\".format(model3.score(X_train_std, y_train)))\n",
    "print(\"테스트 세트 점수 : {:.2f}\".format(model3.score(X_test_std, y_test)))"
   ]
  }
 ],
 "metadata": {
  "kernelspec": {
   "display_name": "Python 3",
   "language": "python",
   "name": "python3"
  },
  "language_info": {
   "codemirror_mode": {
    "name": "ipython",
    "version": 3
   },
   "file_extension": ".py",
   "mimetype": "text/x-python",
   "name": "python",
   "nbconvert_exporter": "python",
   "pygments_lexer": "ipython3",
   "version": "3.7.6"
  }
 },
 "nbformat": 4,
 "nbformat_minor": 4
}
